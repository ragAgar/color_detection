{
 "cells": [
  {
   "cell_type": "markdown",
   "metadata": {},
   "source": [
    "## 画像コンペ"
   ]
  },
  {
   "cell_type": "code",
   "execution_count": 1,
   "metadata": {
    "collapsed": true
   },
   "outputs": [],
   "source": [
    "def get_jpg_name(path):\n",
    "    import os \n",
    "    img_files = os.listdir(path)\n",
    "    return [jpg for jpg in img_files if \".jpg\" in jpg]"
   ]
  },
  {
   "cell_type": "code",
   "execution_count": 2,
   "metadata": {
    "collapsed": false
   },
   "outputs": [],
   "source": [
    "basepath = \"../first_retailing/\"\n",
    "train_img_files = get_jpg_name(basepath+\"train/\")\n",
    "test_img_files = get_jpg_name(basepath+\"test/\")"
   ]
  },
  {
   "cell_type": "code",
   "execution_count": 3,
   "metadata": {
    "collapsed": false
   },
   "outputs": [
    {
     "name": "stdout",
     "output_type": "stream",
     "text": [
      "合計ピクセル数は、444889で、サイズは667*667\n"
     ]
    }
   ],
   "source": [
    "from PIL import Image\n",
    "\n",
    "i = 0\n",
    "file_name = basepath + \"train/\" + train_img_files[i]\n",
    "img = Image.open(file_name)\n",
    "\n",
    "#pixelデータを取得\n",
    "pixel = img.getdata()\n",
    "\n",
    "print(\"合計ピクセル数は、%sで、サイズは%s*%s\"%(len(pixel),img.size[0],img.size[1]))\n",
    "\n",
    "%matplotlib inline"
   ]
  },
  {
   "cell_type": "code",
   "execution_count": 4,
   "metadata": {
    "collapsed": false
   },
   "outputs": [],
   "source": [
    "#訓練データの正解データ\n",
    "import pandas as pd\n",
    "import seaborn as sns\n",
    "\n",
    "train = pd.read_csv(basepath+\"train_master.tsv\", sep=\"\\t\")"
   ]
  },
  {
   "cell_type": "code",
   "execution_count": 5,
   "metadata": {
    "collapsed": false
   },
   "outputs": [
    {
     "data": {
      "text/plain": [
       "<matplotlib.axes._subplots.AxesSubplot at 0x112839eb8>"
      ]
     },
     "execution_count": 5,
     "metadata": {},
     "output_type": "execute_result"
    },
    {
     "data": {
      "image/png": "[encoded data removed]",
      "text/plain": [
       "<matplotlib.figure.Figure at 0x10e1c8208>"
      ]
     },
     "metadata": {},
     "output_type": "display_data"
    }
   ],
   "source": [
    "#histogram\n",
    "sns.distplot(train[\"category_id\"].values)"
   ]
  },
  {
   "cell_type": "code",
   "execution_count": 6,
   "metadata": {
    "collapsed": false
   },
   "outputs": [
    {
     "data": {
      "text/plain": [
       "array([21, 22, 11, ...,  5,  7,  0])"
      ]
     },
     "execution_count": 6,
     "metadata": {},
     "output_type": "execute_result"
    }
   ],
   "source": [
    "a = train[\"category_id\"].values\n",
    "a"
   ]
  },
  {
   "cell_type": "markdown",
   "metadata": {},
   "source": [
    "## ラベリング"
   ]
  },
  {
   "cell_type": "markdown",
   "metadata": {},
   "source": [
    "[カラーコード参照元](http://www.colordic.org/)"
   ]
  },
  {
   "cell_type": "code",
   "execution_count": 7,
   "metadata": {
    "collapsed": false
   },
   "outputs": [],
   "source": [
    "import numpy as np\n",
    "\n",
    "white = np.asarray([255,255,255])\n",
    "off_white = np.asarray([230,230,230])\n",
    "light_gray = np.asarray([211,211,211])\n",
    "gray = np.asarray([128,128,128])\n",
    "dark_gray = np.asarray([169,169,169])\n",
    "black = np.asarray([0,0,0])\n",
    "pink = np.asarray([255,192,203])\n",
    "red = np.asarray([255,0,0])\n",
    "wine = np.asarray([179,62,92])\n",
    "orange = np.asarray([255, 165, 0])\n",
    "dark_orange= np.asarray([255,140,0])\n",
    "natural = np.asarray([175,175,175]) #\n",
    "beige = np.asarray([245,245,220])\n",
    "khaki = np.asarray([240,230,140])\n",
    "brown = np.asarray([165,42,42])\n",
    "dark_brown = np.asarray([101, 67, 33])\n",
    "yellow = np.asarray([255,255,0])\n",
    "light_green = np.asarray([144,238,144])\n",
    "green = np.asarray([0,128,0])\n",
    "olive = np.asarray([128,128,0])\n",
    "dark_green = np.asarray([0,100,0])\n",
    "blue = np.asarray([0,0,255])\n",
    "navy = np.asarray([0,0,128])\n",
    "purple = np.asarray([128,0,128])"
   ]
  },
  {
   "cell_type": "markdown",
   "metadata": {},
   "source": [
    "## 計算"
   ]
  },
  {
   "cell_type": "code",
   "execution_count": 8,
   "metadata": {
    "collapsed": false
   },
   "outputs": [],
   "source": [
    "#main\n",
    "from progressbar import ProgressBar\n",
    "import time\n",
    "\n",
    "color_list = [white, off_white, light_gray, gray, dark_gray, black, \n",
    "              pink, red, wine, orange, dark_orange, natural, beige, \n",
    "              khaki, brown, dark_brown, yellow, light_green, green,\n",
    "              olive, dark_green, blue, navy, purple]\n",
    "\n",
    "#色との距離を計算して、最も近い色を出す\n",
    "def predict_by_distance(pixel):\n",
    "    p = ProgressBar( maxval=len(pixel)) \n",
    "    \n",
    "    color_dict = {v:0 for v in range(len(color_list))}\n",
    "    for i in range(len(pixel)):\n",
    "        if pixel[i] != (255,255,255):  #背景を無視\n",
    "            color = np.argmin([np.linalg.norm(color - pixel[i]) for color in color_list])\n",
    "            color_dict[color] = color_dict[color] + 1\n",
    "            \n",
    "        p.update(i+1)\n",
    "    \n",
    "    #予測\n",
    "    pred = max(color_dict, key=color_dict.get)\n",
    "    return pred\n",
    "\n",
    "#画像のpixelを作成\n",
    "def get_img_array(path,resize):\n",
    "    img_array = Image.open(path).resize([resize,resize]).getdata()\n",
    "    return img_array\n",
    "\n",
    "#画像を表示\n",
    "def show_img(path):\n",
    "    img_array = Image.open(path).resize([200,200])\n",
    "    img_array.show()\n",
    "\n",
    "#精度\n",
    "def M_accuracy(train, pred):\n",
    "    pred_dict = {v:0 for v in range(len(color_list))}\n",
    "    num_dict = {v:0 for v in range(len(color_list))}\n",
    "    for i in range(len(pred)):\n",
    "        if train[\"category_id\"].values[i] == pred[i]:\n",
    "            pred_dict[train[\"category_id\"].values[i]] = pred_dict[train[\"category_id\"].values[i]] + 1\n",
    "            num_dict[train[\"category_id\"].values[i]] = num_dict[train[\"category_id\"].values[i]] + 1\n",
    "        else:\n",
    "            num_dict[train[\"category_id\"].values[i]] = num_dict[train[\"category_id\"].values[i]] + 1\n",
    "    return np.mean([pred_dict[k]/num_dict[k] for k in range(len(pred_dict)) if num_dict[k] != 0])\n",
    "\n",
    "import pickle\n",
    "\n",
    "#pickle書き出し(<4GB)\n",
    "def write_pickle(pickle_path,v):\n",
    "    with open(pickle_path, mode='wb') as f:\n",
    "        pickle.dump(v, f)\n",
    "    print(\"Finished Writing pickle\")\n",
    "\n",
    "#pickle 読み込み \n",
    "def read_pickle(pickle_path):\n",
    "    with open(pickle_path, mode='rb') as f:\n",
    "        read = pickle.load(f)\n",
    "    return read\n",
    "\n",
    "\n",
    "def get_jpg_name(path):\n",
    "    import os \n",
    "    img_files = os.listdir(path)\n",
    "    return [jpg for jpg in img_files if \".jpg\" in jpg]    "
   ]
  },
  {
   "cell_type": "code",
   "execution_count": 11,
   "metadata": {
    "collapsed": false
   },
   "outputs": [
    {
     "name": "stderr",
     "output_type": "stream",
     "text": [
      " 98% ( 9874 of 10000) |################### | Elapsed Time: 0:00:00 ETA: 0:00:00"
     ]
    }
   ],
   "source": [
    "#実行部分(trainデータ)\n",
    "img_files = os.listdir(basepath+\"train/\")\n",
    "\n",
    "predict_color = []\n",
    "for f in range(len(img_files)):\n",
    "    #filenameを取得\n",
    "    file_name = basepath + \"train/train_%s.jpg\"%(f)\n",
    "    #pixelデータに変換\n",
    "    img_array = get_img_array(file_name,100)\n",
    "    #一番多い色の数を取得\n",
    "    predict_color.append(predict_by_distance(img_array))"
   ]
  },
  {
   "cell_type": "code",
   "execution_count": 9,
   "metadata": {
    "collapsed": false
   },
   "outputs": [
    {
     "name": "stderr",
     "output_type": "stream",
     "text": [
      " 98% (2469 of 2500) |##################### | Elapsed Time: 0:00:00 ETA: 0:00:00"
     ]
    }
   ],
   "source": [
    "#実行部分(testデータ)\n",
    "\n",
    "submit = []\n",
    "for f in range(len(test_img_files)):\n",
    "    #filenameを取得\n",
    "    file_name = basepath + \"test/test_%s.jpg\"%(f)\n",
    "    #pixelデータに変換\n",
    "    img_array = get_img_array(file_name,50)\n",
    "    #一番多い色の数を取得\n",
    "    submit.append([\"test_%s.jpg\"%(f),predict_by_distance(img_array)])"
   ]
  },
  {
   "cell_type": "code",
   "execution_count": 13,
   "metadata": {
    "collapsed": false
   },
   "outputs": [],
   "source": [
    "pd.DataFrame(submit).to_csv(\"/Users/Chang/Desktop/submission.csv\",header=None, index=None)"
   ]
  },
  {
   "cell_type": "code",
   "execution_count": 12,
   "metadata": {
    "collapsed": false
   },
   "outputs": [
    {
     "data": {
      "text/plain": [
       "0.15781248133908141"
      ]
     },
     "execution_count": 12,
     "metadata": {},
     "output_type": "execute_result"
    }
   ],
   "source": [
    "M_accuracy(train,predict_color)"
   ]
  },
  {
   "cell_type": "code",
   "execution_count": null,
   "metadata": {
    "collapsed": false
   },
   "outputs": [],
   "source": []
  },
  {
   "cell_type": "code",
   "execution_count": null,
   "metadata": {
    "collapsed": false
   },
   "outputs": [],
   "source": []
  },
  {
   "cell_type": "code",
   "execution_count": null,
   "metadata": {
    "collapsed": true
   },
   "outputs": [],
   "source": []
  }
 ],
 "metadata": {
  "kernelspec": {
   "display_name": "Python 3",
   "language": "python",
   "name": "python3"
  },
  "language_info": {
   "codemirror_mode": {
    "name": "ipython",
    "version": 3
   },
   "file_extension": ".py",
   "mimetype": "text/x-python",
   "name": "python",
   "nbconvert_exporter": "python",
   "pygments_lexer": "ipython3",
   "version": "3.5.1"
  }
 },
 "nbformat": 4,
 "nbformat_minor": 0
}
