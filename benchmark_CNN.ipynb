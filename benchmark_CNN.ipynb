{
 "cells": [
  {
   "cell_type": "markdown",
   "metadata": {},
   "source": [
    "## 画像コンペ"
   ]
  },
  {
   "cell_type": "code",
   "execution_count": 1,
   "metadata": {
    "collapsed": false
   },
   "outputs": [],
   "source": [
    "import os\n",
    "\n",
    "basepath = \"../first_retailing/\"\n",
    "img_files = os.listdir(basepath+\"train/\")"
   ]
  },
  {
   "cell_type": "code",
   "execution_count": 2,
   "metadata": {
    "collapsed": true
   },
   "outputs": [],
   "source": [
    "#訓練データの正解データ\n",
    "from PIL import Image\n",
    "import pandas as pd\n",
    "import seaborn as sns\n",
    "import numpy as np\n",
    "%matplotlib inline\n",
    "\n",
    "train = pd.read_csv(basepath+\"train_master.tsv\", sep=\"\\t\")"
   ]
  },
  {
   "cell_type": "code",
   "execution_count": 3,
   "metadata": {
    "collapsed": false
   },
   "outputs": [
    {
     "data": {
      "text/plain": [
       "<matplotlib.axes._subplots.AxesSubplot at 0x10caf2a20>"
      ]
     },
     "execution_count": 3,
     "metadata": {},
     "output_type": "execute_result"
    },
    {
     "data": {
      "image/png": "[encoded data removed]",
      "text/plain": [
       "<matplotlib.figure.Figure at 0x107e67b70>"
      ]
     },
     "metadata": {},
     "output_type": "display_data"
    }
   ],
   "source": [
    "#histogram\n",
    "sns.distplot(train[\"category_id\"].values)"
   ]
  },
  {
   "cell_type": "code",
   "execution_count": 4,
   "metadata": {
    "collapsed": false
   },
   "outputs": [],
   "source": [
    "#utils\n",
    "#画像のpixelを作成\n",
    "def get_img_array(path,resize):\n",
    "    img_array = Image.open(path).resize([resize,resize]).getdata()\n",
    "    return img_array\n",
    "\n",
    "#画像を表示\n",
    "def show_img(path):\n",
    "    img_array = Image.open(path).resize([128,128])\n",
    "    img_array.show()\n",
    "\n",
    "#精度\n",
    "def M_accuracy(train, pred):\n",
    "    pred_dict = {v:0 for v in range(len(color_list))}\n",
    "    num_dict = {v:0 for v in range(len(color_list))}\n",
    "    for i in range(len(pred)):\n",
    "        if train[\"category_id\"].values[i] == pred[i]:\n",
    "            pred_dict[train[\"category_id\"].values[i]] = pred_dict[train[\"category_id\"].values[i]] + 1\n",
    "            num_dict[train[\"category_id\"].values[i]] = num_dict[train[\"category_id\"].values[i]] + 1\n",
    "        else:\n",
    "            num_dict[train[\"category_id\"].values[i]] = num_dict[train[\"category_id\"].values[i]] + 1\n",
    "    return np.mean([pred_dict[k]/num_dict[k] for k in range(len(pred_dict)) if num_dict[k] != 0])\n",
    "\n",
    "\n",
    "#pickle書き出し(<4GB)\n",
    "import pickle\n",
    "def write_pickle(pickle_path,v):\n",
    "    with open(pickle_path, mode='wb') as f:\n",
    "        pickle.dump(v, f)\n",
    "    print(\"Finished Writing pickle\")\n",
    "\n",
    "#pickle 読み込み \n",
    "def read_pickle(pickle_path):\n",
    "    with open(pickle_path, mode='rb') as f:\n",
    "        read = pickle.load(f)\n",
    "    return read"
   ]
  },
  {
   "cell_type": "markdown",
   "metadata": {},
   "source": [
    "## データ準備(128*128)"
   ]
  },
  {
   "cell_type": "code",
   "execution_count": 6,
   "metadata": {
    "collapsed": false
   },
   "outputs": [],
   "source": [
    "import numpy as np\n",
    "\n",
    "X = []\n",
    "for i in range(len(img_files)):\n",
    "    X.append(np.hstack(get_img_array(basepath + \"train/train_%s.jpg\"%(i), 128)))"
   ]
  },
  {
   "cell_type": "code",
   "execution_count": 11,
   "metadata": {
    "collapsed": false
   },
   "outputs": [],
   "source": [
    "X = pd.DataFrame(X)"
   ]
  },
  {
   "cell_type": "code",
   "execution_count": 12,
   "metadata": {
    "collapsed": false
   },
   "outputs": [
    {
     "data": {
      "text/plain": [
       "(12399, 49152)"
      ]
     },
     "execution_count": 12,
     "metadata": {},
     "output_type": "execute_result"
    }
   ],
   "source": [
    "X.shape #(サンプル数,128*128*3)"
   ]
  },
  {
   "cell_type": "code",
   "execution_count": 11,
   "metadata": {
    "collapsed": false
   },
   "outputs": [
    {
     "name": "stderr",
     "output_type": "stream",
     "text": [
      "/Users/Chang/.pyenv/versions/python351/lib/python3.5/site-packages/sklearn/cross_validation.py:44: DeprecationWarning: This module was deprecated in version 0.18 in favor of the model_selection module into which all the refactored classes and functions are moved. Also note that the interface of the new CV iterators are different from that of this module. This module will be removed in 0.20.\n",
      "  \"This module will be removed in 0.20.\", DeprecationWarning)\n"
     ]
    }
   ],
   "source": [
    "from sklearn.cross_validation import train_test_split\n",
    "\n",
    "X_train,X_valid,y_train,y_valid = train_test_split(X, train, test_size=0.5,random_state=0)"
   ]
  },
  {
   "cell_type": "code",
   "execution_count": 15,
   "metadata": {
    "collapsed": false
   },
   "outputs": [],
   "source": []
  },
  {
   "cell_type": "code",
   "execution_count": 14,
   "metadata": {
    "collapsed": false
   },
   "outputs": [
    {
     "data": {
      "text/plain": [
       "(6199, 49152)"
      ]
     },
     "execution_count": 14,
     "metadata": {},
     "output_type": "execute_result"
    }
   ],
   "source": [
    "X_train.shape"
   ]
  },
  {
   "cell_type": "code",
   "execution_count": 5,
   "metadata": {
    "collapsed": false
   },
   "outputs": [],
   "source": [
    "#X_train.to_csv(basepath+\"X_train.csv\")\n",
    "#X_valid.to_csv(basepath+\"X_valid.csv\")\n",
    "#y_train.to_csv(basepath+\"y_train.csv\")\n",
    "#y_valid.to_csv(basepath+\"y_valid.csv\")\n",
    "\n",
    "\n",
    "X_train = pd.read_csv(\"../X_train.csv\")\n",
    "X_valid = pd.read_csv(\"../X_valid.csv\")\n",
    "y_train = pd.read_csv(\"../y_train.csv\")\n",
    "y_valid = pd.read_csv(\"../y_valid.csv\")"
   ]
  },
  {
   "cell_type": "code",
   "execution_count": null,
   "metadata": {
    "collapsed": false
   },
   "outputs": [],
   "source": []
  },
  {
   "cell_type": "markdown",
   "metadata": {},
   "source": [
    "## CNN"
   ]
  },
  {
   "cell_type": "code",
   "execution_count": 6,
   "metadata": {
    "collapsed": false
   },
   "outputs": [],
   "source": [
    "def preprocessing_for_keras(X):\n",
    "    X_n = X/255\n",
    "    X_n.astype(\"float32\")\n",
    "    X_n = X_n.values.reshape(X.shape[0], 3, 128, 128)    \n",
    "    return X_n"
   ]
  },
  {
   "cell_type": "code",
   "execution_count": 7,
   "metadata": {
    "collapsed": false
   },
   "outputs": [],
   "source": [
    "#X_train, X_validはcsvファイル経由だと一番左にゴミがある\n",
    "X_train_keras = preprocessing_for_keras(X_train.iloc[:,1:])"
   ]
  },
  {
   "cell_type": "code",
   "execution_count": 8,
   "metadata": {
    "collapsed": false
   },
   "outputs": [],
   "source": [
    "X_valid_keras = preprocessing_for_keras(X_valid.iloc[:,1:])"
   ]
  },
  {
   "cell_type": "code",
   "execution_count": null,
   "metadata": {
    "collapsed": false
   },
   "outputs": [
    {
     "name": "stdout",
     "output_type": "stream",
     "text": [
      "X_train shape: (6199, 49153)\n",
      "6199 train samples\n",
      "6200 train samples\n",
      "_________________________________________________________________\n",
      "Layer (type)                 Output Shape              Param #   \n",
      "=================================================================\n",
      "conv2d_1 (Conv2D)            (None, 32, 128, 128)      896       \n",
      "_________________________________________________________________\n",
      "activation_1 (Activation)    (None, 32, 128, 128)      0         \n",
      "_________________________________________________________________\n",
      "conv2d_2 (Conv2D)            (None, 32, 126, 126)      9248      \n",
      "_________________________________________________________________\n",
      "activation_2 (Activation)    (None, 32, 126, 126)      0         \n",
      "_________________________________________________________________\n",
      "max_pooling2d_1 (MaxPooling2 (None, 32, 63, 63)        0         \n",
      "_________________________________________________________________\n",
      "dropout_1 (Dropout)          (None, 32, 63, 63)        0         \n",
      "_________________________________________________________________\n",
      "conv2d_3 (Conv2D)            (None, 64, 63, 63)        18496     \n",
      "_________________________________________________________________\n",
      "activation_3 (Activation)    (None, 64, 63, 63)        0         \n",
      "_________________________________________________________________\n",
      "conv2d_4 (Conv2D)            (None, 64, 61, 61)        36928     \n",
      "_________________________________________________________________\n",
      "activation_4 (Activation)    (None, 64, 61, 61)        0         \n",
      "_________________________________________________________________\n",
      "max_pooling2d_2 (MaxPooling2 (None, 64, 30, 30)        0         \n",
      "_________________________________________________________________\n",
      "dropout_2 (Dropout)          (None, 64, 30, 30)        0         \n",
      "_________________________________________________________________\n",
      "flatten_1 (Flatten)          (None, 57600)             0         \n",
      "_________________________________________________________________\n",
      "dense_1 (Dense)              (None, 1024)              58983424  \n",
      "_________________________________________________________________\n",
      "activation_5 (Activation)    (None, 1024)              0         \n",
      "_________________________________________________________________\n",
      "dropout_3 (Dropout)          (None, 1024)              0         \n",
      "_________________________________________________________________\n",
      "dense_2 (Dense)              (None, 24)                24600     \n",
      "_________________________________________________________________\n",
      "activation_6 (Activation)    (None, 24)                0         \n",
      "=================================================================\n",
      "Total params: 59,073,592\n",
      "Trainable params: 59,073,592\n",
      "Non-trainable params: 0\n",
      "_________________________________________________________________\n",
      "Not using data augmentation.\n",
      "Train on 6199 samples, validate on 6200 samples"
     ]
    }
   ],
   "source": [
    "#CNN\n",
    "from keras.preprocessing.image import ImageDataGenerator\n",
    "from keras.models import Sequential\n",
    "from keras.layers import Dense, Dropout, Activation, Flatten\n",
    "from keras.layers import Conv2D, MaxPooling2D\n",
    "from keras.optimizers import SGD\n",
    "from keras.utils import np_utils\n",
    "import keras \n",
    "\n",
    "batch_size = 1024\n",
    "nb_classes = len(np.unique(y_train[\"value\"]))\n",
    "nb_epoch = 20\n",
    "data_augmentation = True\n",
    "input_shape = (3, 128, 128)\n",
    "\n",
    "# input image dimensions\n",
    "img_rows, img_cols = 128, 128\n",
    "# the CIFAR10 images are RGB\n",
    "img_channels = 3\n",
    "\n",
    "print('X_train shape:', X_train.shape)\n",
    "print(X_train.shape[0], 'train samples')\n",
    "print(X_valid.shape[0], 'train samples')\n",
    "\n",
    "# convert class vectors to binary class matrices\n",
    "Y_train = np_utils.to_categorical(y_train[\"value\"].values, nb_classes)\n",
    "Y_valid  = np_utils.to_categorical(y_valid[\"value\"].values ,  nb_classes)\n",
    "#Y_test  = np_utils.to_categorical(y_test.values ,  nb_classes)\n",
    "\n",
    "#callbacks\n",
    "es_cb = keras.callbacks.EarlyStopping(monitor='val_loss', patience=0, verbose=1, mode='auto')\n",
    "sv_cb = keras.callbacks.ModelCheckpoint(basepath+\"weight/weights_{epoch:02d}-{val_loss:.2f}.hdf5\", monitor='val_loss', verbose=0, save_best_only=False, save_weights_only=False, mode='auto')\n",
    "\n",
    "model = Sequential()\n",
    "\n",
    "model.add(Conv2D(32, (3, 3), input_shape=input_shape, padding=\"same\"))\n",
    "model.add(Activation('relu'))\n",
    "model.add(Conv2D(32, (3, 3)))\n",
    "model.add(Activation('relu'))\n",
    "model.add(MaxPooling2D(pool_size=(2, 2)))\n",
    "model.add(Dropout(0.25))\n",
    "\n",
    "model.add(Conv2D(64, (3, 3),padding=\"same\"))\n",
    "model.add(Activation('relu'))\n",
    "model.add(Conv2D(64, (3, 3)))\n",
    "model.add(Activation('relu'))\n",
    "model.add(MaxPooling2D(pool_size=(2, 2)))\n",
    "model.add(Dropout(0.25))\n",
    "\n",
    "model.add(Flatten())\n",
    "model.add(Dense(1024))\n",
    "model.add(Activation('relu'))\n",
    "model.add(Dropout(0.5))\n",
    "model.add(Dense(nb_classes))\n",
    "model.add(Activation('softmax'))\n",
    "\n",
    "\n",
    "# let's train the model using SGD + momentum (how original).\n",
    "sgd = SGD(lr=0.01, decay=1e-6, momentum=0.9, nesterov=True)\n",
    "model.compile(loss='categorical_crossentropy',\n",
    "              optimizer=sgd,\n",
    "              metrics=['accuracy'])\n",
    "\n",
    "model.summary()\n",
    "\n",
    "\n",
    "if not data_augmentation:\n",
    "    print('Not using data augmentation.')\n",
    "    history = model.fit(X_train_keras, Y_train,\n",
    "              batch_size=batch_size,\n",
    "              epochs=nb_epoch,\n",
    "              validation_data=(X_valid_keras,  Y_valid),\n",
    "              shuffle=True,\n",
    "              callbacks=[es_cb, sv_cb])\n",
    "    \n",
    "    \n",
    "else:\n",
    "    print('Using real-time data augmentation.')\n",
    "\n",
    "    # this will do preprocessing and realtime data augmentation\n",
    "    datagen = ImageDataGenerator(\n",
    "        featurewise_center=False,  # set input mean to 0 over the dataset\n",
    "        samplewise_center=False,  # set each sample mean to 0\n",
    "        featurewise_std_normalization=False,  # divide inputs by std of the dataset\n",
    "        samplewise_std_normalization=False,  # divide each input by its std\n",
    "        zca_whitening=False,  # apply ZCA whitening\n",
    "        rotation_range=0,  # randomly rotate images in the range (degrees, 0 to 180)\n",
    "        width_shift_range=0.1,  # randomly shift images horizontally (fraction of total width)\n",
    "        height_shift_range=0.1,  # randomly shift images vertically (fraction of total height)\n",
    "        horizontal_flip=True,  # randomly flip images\n",
    "        vertical_flip=False)  # randomly flip images\n",
    "\n",
    "    # compute quantities required for featurewise normalization\n",
    "    # (std, mean, and principal components if ZCA whitening is applied)\n",
    "    datagen.fit(X_valid_keras)\n",
    "\n",
    "    # fit the model on the batches generated by datagen.flow()\n",
    "    history = model.fit_generator(datagen.flow(X_train_keras, Y_train,\n",
    "                        batch_size=batch_size),\n",
    "                        samples_per_epoch=X_valid_keras.shape[0],\n",
    "                        nb_epoch=nb_epoch,\n",
    "                        validation_data=(X_valid_keras, Y_valid),\n",
    "                        callbacks=[es_cb, sv_cb])"
   ]
  },
  {
   "cell_type": "code",
   "execution_count": null,
   "metadata": {
    "collapsed": true
   },
   "outputs": [],
   "source": []
  }
 ],
 "metadata": {
  "kernelspec": {
   "display_name": "Python 3",
   "language": "python",
   "name": "python3"
  },
  "language_info": {
   "codemirror_mode": {
    "name": "ipython",
    "version": 3
   },
   "file_extension": ".py",
   "mimetype": "text/x-python",
   "name": "python",
   "nbconvert_exporter": "python",
   "pygments_lexer": "ipython3",
   "version": "3.5.1"
  }
 },
 "nbformat": 4,
 "nbformat_minor": 0
}
